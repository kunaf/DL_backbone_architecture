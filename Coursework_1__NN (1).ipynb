{
  "nbformat": 4,
  "nbformat_minor": 0,
  "metadata": {
    "colab": {
      "provenance": []
    },
    "kernelspec": {
      "name": "python3",
      "display_name": "Python 3"
    },
    "language_info": {
      "name": "python"
    },
    "accelerator": "GPU",
    "gpuClass": "standard"
  },
  "cells": [
    {
      "cell_type": "markdown",
      "source": [
        "**COURSEWORK 1: NEURAL NETWORKS AND DEEP LEARNING**\n",
        "\n",
        "We train the dataset to classify images into 10 classes"
      ],
      "metadata": {
        "id": "brHbcQzNPzDA"
      }
    },
    {
      "cell_type": "markdown",
      "source": [
        "Importing the Libraries "
      ],
      "metadata": {
        "id": "yaNh2_E-eFnb"
      }
    },
    {
      "cell_type": "code",
      "source": [
        "#importing pytorch libraries\n",
        "import torch\n",
        "import torchvision\n",
        "import torchvision.transforms as transforms\n",
        "import torch.optim as optim\n",
        "import torch.nn as nn\n",
        "import torch.nn.functional as F"
      ],
      "metadata": {
        "id": "Ca_rBnMkSdPk"
      },
      "execution_count": 1,
      "outputs": []
    },
    {
      "cell_type": "markdown",
      "source": [
        "\n",
        "\n",
        "**TASK 1: Read Dataset and Create Data Loaders**\n",
        "\n",
        "\n"
      ],
      "metadata": {
        "id": "yI27LS7j_nRs"
      }
    },
    {
      "cell_type": "markdown",
      "source": [
        "Load and normalize the CIFAR10 training and test datasets using torchvision"
      ],
      "metadata": {
        "id": "IY_yoglyeNxL"
      }
    },
    {
      "cell_type": "code",
      "source": [
        "\n",
        "transform = transforms.Compose(\n",
        "    [transforms.ToTensor(),\n",
        "     transforms.Normalize((0.5, 0.5, 0.5), (0.5, 0.5, 0.5))])\n",
        "\n",
        "batch_size = 4\n",
        "\n",
        "trainset = torchvision.datasets.CIFAR10(root='./data', train=True,\n",
        "                                        download=True, transform=transform)\n",
        "trainloader = torch.utils.data.DataLoader(trainset, batch_size=batch_size,\n",
        "                                          shuffle=True, num_workers=2)\n",
        "\n",
        "testset = torchvision.datasets.CIFAR10(root='./data', train=False,\n",
        "                                       download=True, transform=transform)\n",
        "testloader = torch.utils.data.DataLoader(testset, batch_size=batch_size,\n",
        "                                         shuffle=False, num_workers=2)\n",
        "\n",
        "classes = ('plane', 'car', 'bird', 'cat',\n",
        "           'deer', 'dog', 'frog', 'horse', 'ship', 'truck')"
      ],
      "metadata": {
        "colab": {
          "base_uri": "https://localhost:8080/"
        },
        "id": "OY1qtfX0SjVV",
        "outputId": "cd787fb1-c5ae-4e5a-f22d-5d68834c7f48"
      },
      "execution_count": 2,
      "outputs": [
        {
          "output_type": "stream",
          "name": "stdout",
          "text": [
            "Files already downloaded and verified\n",
            "Files already downloaded and verified\n"
          ]
        }
      ]
    },
    {
      "cell_type": "markdown",
      "source": [
        "**TASK 2: Create the Model**\n",
        "\n",
        "Define a Convolutional Neural Network witht the following architecture\n",
        "\n",
        "Number of blocks - 2\n",
        "\n",
        "Number of Convolutions - 4\n",
        "\n",
        "Input shape (3, 32, 32)\n",
        "\n",
        "Input features - 3\n",
        "\n",
        "Output Classes - 10\n",
        "\n",
        "Activation Functions: ReLU, Tanh"
      ],
      "metadata": {
        "id": "rvtOoATjXpct"
      }
    },
    {
      "cell_type": "code",
      "source": [
        "#Define Convolution network\n",
        "class CNN(nn.Module):\n",
        "    def __init__(self):\n",
        "        super(CNN, self).__init__()\n",
        "        #block 1\n",
        "        #Spatial Average pooling\n",
        "        self.spa_pool_1 = nn.AdaptiveAvgPool2d(output_size=(1, 1))\n",
        "\n",
        "        #Flatten\n",
        "        self.flat_1 = nn.Flatten()\n",
        "\n",
        "        #Linear layer, with 3 input features and 4 convolutions\n",
        "        self.linear_1 = nn.Linear(3, 4)\n",
        "            \n",
        "        #non-linear activation function, ReLU\n",
        "        self.relu_1 =  nn.Tanh()\n",
        "\n",
        "        # add convolutional layers, each wil be multiplied by an element of output from the MLP layer\n",
        "        self.conv_1 = nn.Conv2d(in_channels=3, out_channels=32, kernel_size=3, stride=1, padding=1)\n",
        "\n",
        "        #block 2\n",
        "        self.spa_pool_2 = nn.AdaptiveAvgPool2d(output_size=(1, 1))\n",
        "        self.flat_2 = nn.Flatten()\n",
        "        self.linear_2 = nn.Linear(32, 4)\n",
        "        self.relu_2 =  nn.ReLU()\n",
        "\n",
        "        # add convolutional layers, each multiplied by an element of e\n",
        "        self.conv_2 = nn.Conv2d(in_channels=32, out_channels=128, kernel_size=3, stride=1, padding=1)\n",
        "\n",
        "        self.tanh =  nn.Tanh()\n",
        "\n",
        "        '''#block 3\n",
        "        self.spa_pool_3 = nn.AdaptiveAvgPool2d(output_size=(1, 1))\n",
        "        self.flat_3 = nn.Flatten()\n",
        "        self.linear_3 = nn.Linear(32, 4)\n",
        "        self.relu_3 =  nn.Tanh()\n",
        "\n",
        "        # add convolutional layers, each multiplied by an element of e\n",
        "        self.conv_3 = nn.Conv2d(in_channels=32, out_channels=64, kernel_size=3, stride=1, padding=1)\n",
        "\n",
        "        #block 4\n",
        "        self.spa_pool_4 = nn.AdaptiveAvgPool2d(output_size=(1, 1))\n",
        "        self.flat_4 = nn.Flatten()\n",
        "        self.linear_4 = nn.Linear(64, 4)\n",
        "        self.relu_4 =  nn.Tanh()\n",
        "\n",
        "        # add convolutional layers, each multiplied by an element of e\n",
        "        self.conv_4 = nn.Conv2d(in_channels=64, out_channels=128, kernel_size=3, stride=1, padding=1)'''\n",
        "\n",
        "        # add the classifier\n",
        "        self.classifier = nn.Sequential(\n",
        "            nn.AdaptiveAvgPool2d(output_size=(1, 1)),\n",
        "            nn.Flatten(),\n",
        "            nn.Linear(in_features=128, out_features=10)\n",
        "        )\n",
        "\n",
        "    def forward(self, x):\n",
        "\n",
        "       #block 1\n",
        "       lin_1 = self.spa_pool_1(x) # reduce spatial dimensions to 1x1 while preserving channel dimension\n",
        "       \n",
        "       lin_1 = self.flat_1(lin_1) # flatten to (batch_size, input_channel)\n",
        "\n",
        "       lin_1 = self.linear_1(lin_1) #linear layer\n",
        "\n",
        "       lin_1 = self.relu_1(lin_1) #apply relu activation function\n",
        "\n",
        "       # divide lin_1 into a1, a2, a3, a4 cuz we have 4 parallel convolutions\n",
        "       a1 = (lin_1[:, 0].view((4, 1))).unsqueeze(-1).unsqueeze(-1) #unsqueeze add dimensions to match dimensions of conv layer to get product\n",
        "       a2 = (lin_1[:, 1].view((4, 1))).unsqueeze(-1).unsqueeze(-1)\n",
        "       a3 = (lin_1[:, 2].view((4, 1))).unsqueeze(-1).unsqueeze(-1)\n",
        "       a4 = (lin_1[:, 3].view((4, 1))).unsqueeze(-1).unsqueeze(-1)\n",
        "\n",
        "       conv_output_1 = self.conv_1(x) #convolution layer\n",
        "\n",
        "       #output as product of convlution and mlp\n",
        "       b1_out1 = a1 * conv_output_1\n",
        "       b1_out2 = a2 * conv_output_1\n",
        "       b1_out3 = a3 * conv_output_1\n",
        "       b1_out4 = a4 * conv_output_1\n",
        "\n",
        "       #sum of output from convolution and mlp to get output of block 1, O_1\n",
        "       block_output_1 = b1_out1 + b1_out2 + b1_out3 + b1_out4\n",
        "\n",
        "       #block 2\n",
        "       # reduce spatial dimensions to 1x1 while preserving channel dimension \n",
        "       lin_2 = self.spa_pool_2(block_output_1)#input to pooling is output from previous block\n",
        "       \n",
        "       lin_2 = self.flat_2(lin_2)\n",
        "      \n",
        "       lin_2 = self.linear_2(lin_2) #linear layer\n",
        "      \n",
        "       lin_2 = self.relu_2(lin_2)\n",
        "      \n",
        "       a5 = (lin_2[:, 0].view((4, 1))).unsqueeze(-1).unsqueeze(-1)\n",
        "       a6 = (lin_2[:, 1].view((4, 1))).unsqueeze(-1).unsqueeze(-1)\n",
        "       a7 = (lin_2[:, 2].view((4, 1))).unsqueeze(-1).unsqueeze(-1)\n",
        "       a8 = (lin_2[:, 3].view((4, 1))).unsqueeze(-1).unsqueeze(-1)\n",
        "       \n",
        "       #convolution layer\n",
        "       conv_output_2 = self.conv_2(block_output_1) #input is output from previous block\n",
        "\n",
        "       conv_output_2 = self.tanh(conv_output_2) #tanh activation to improve performance\n",
        "\n",
        "       #comput product and sum to get output for the block\n",
        "       b2_out1 = a5 * conv_output_2\n",
        "       b2_out2 = a6 * conv_output_2\n",
        "       b2_out3 = a7 * conv_output_2\n",
        "       b2_out4 = a8 * conv_output_2\n",
        "       block_output_2 = b2_out1 + b2_out2 + b2_out3 + b2_out4\n",
        "         \n",
        "       '''\n",
        "       #block 3\n",
        "       lin_3 = self.spa_pool_3(block_output_2) # reduce spatial dimensions to 1x1 while preserving channel dimension\n",
        "       #print(block_output_1.size())\n",
        "       #print(lin_2.size())\n",
        "       lin_3 = self.flat_3(lin_3)\n",
        "       #print(lin_2.size())\n",
        "       #xp = xp.view(xp.size(0), -1) # flatten to (batch_size, input_channel)\n",
        "       lin_3 = self.linear_3(lin_3) #linear layer\n",
        "       #print(lin_2.size())\n",
        "       lin_3 = self.relu_3(lin_3)\n",
        "       #print(lin_2.size())\n",
        "       # divide x into a1, a2, cuz we have 2 parallel conv\n",
        "       a9 = (lin_3[:, 0].view((4, 1))).unsqueeze(-1).unsqueeze(-1)\n",
        "       a10 = (lin_3[:, 1].view((4, 1))).unsqueeze(-1).unsqueeze(-1)\n",
        "       a11 = (lin_3[:, 2].view((4, 1))).unsqueeze(-1).unsqueeze(-1)\n",
        "       a12 = (lin_3[:, 3].view((4, 1))).unsqueeze(-1).unsqueeze(-1)\n",
        "       #print(\"a3, a4\", a3)\n",
        "       \n",
        "       conv_output_3 = self.conv_3(block_output_2) #convolution layer\n",
        "       conv_output_3 = self.tanh(conv_output_3) \n",
        "\n",
        "       #output per block\n",
        "       b3_out1 = a9 * conv_output_3\n",
        "       b3_out2 = a10 * conv_output_3\n",
        "       b3_out3 = a11 * conv_output_3\n",
        "       b3_out4 = a12 * conv_output_3\n",
        "       block_output_3 = b3_out1 + b3_out2 + b3_out3 + b3_out4\n",
        "\n",
        "       #block 4\n",
        "       lin_4 = self.spa_pool_4(block_output_3) # reduce spatial dimensions to 1x1 while preserving channel dimension\n",
        "       #print(block_output_1.size())\n",
        "       #print(lin_2.size())\n",
        "       lin_4 = self.flat_4(lin_4)\n",
        "       #print(lin_2.size())\n",
        "       #xp = xp.view(xp.size(0), -1) # flatten to (batch_size, input_channel)\n",
        "       lin_4 = self.linear_4(lin_4) #linear layer\n",
        "       #print(lin_2.size())\n",
        "       lin_4 = self.relu_4(lin_4)\n",
        "       #print(lin_2.size())\n",
        "       # divide x into a1, a2, cuz we have 2 parallel conv\n",
        "       a13 = (lin_4[:, 0].view((4, 1))).unsqueeze(-1).unsqueeze(-1)\n",
        "       a14 = (lin_4[:, 1].view((4, 1))).unsqueeze(-1).unsqueeze(-1)\n",
        "       a15 = (lin_4[:, 2].view((4, 1))).unsqueeze(-1).unsqueeze(-1)\n",
        "       a16 = (lin_4[:, 3].view((4, 1))).unsqueeze(-1).unsqueeze(-1)\n",
        "       #print(\"a3, a4\", a3)\n",
        "       \n",
        "       conv_output_4 = self.conv_4(block_output_3) #convolution layer\n",
        "\n",
        "       #output per block\n",
        "       b4_out1 = a13 * conv_output_4\n",
        "       b4_out2 = a14 * conv_output_4\n",
        "       b4_out3 = a15 * conv_output_4\n",
        "       b4_out4 = a16 * conv_output_4\n",
        "       block_output_4 = b4_out1 + b4_out2 + b4_out3 + b4_out4\n",
        "       \n",
        "       '''\n",
        "        \n",
        "       #softmax classifier\n",
        "       out = self.classifier(block_output_2)\n",
        "\n",
        "       return out\n",
        " "
      ],
      "metadata": {
        "id": "bKeQgJr-uiZc"
      },
      "execution_count": 3,
      "outputs": []
    },
    {
      "cell_type": "code",
      "source": [
        "from torchvision import models\n",
        "from torchsummary import summary\n",
        "\n",
        "model = CNN()\n",
        "\n",
        "print(model)\n",
        "\n",
        "#summary(model, input_size=(3, 32, 32))"
      ],
      "metadata": {
        "colab": {
          "base_uri": "https://localhost:8080/"
        },
        "id": "IundHWK9YwSl",
        "outputId": "dddf988f-0f3a-4cfc-b05a-9273b200f9d2"
      },
      "execution_count": 4,
      "outputs": [
        {
          "output_type": "stream",
          "name": "stdout",
          "text": [
            "CNN(\n",
            "  (spa_pool_1): AdaptiveAvgPool2d(output_size=(1, 1))\n",
            "  (flat_1): Flatten(start_dim=1, end_dim=-1)\n",
            "  (linear_1): Linear(in_features=3, out_features=4, bias=True)\n",
            "  (relu_1): Tanh()\n",
            "  (conv_1): Conv2d(3, 32, kernel_size=(3, 3), stride=(1, 1), padding=(1, 1))\n",
            "  (spa_pool_2): AdaptiveAvgPool2d(output_size=(1, 1))\n",
            "  (flat_2): Flatten(start_dim=1, end_dim=-1)\n",
            "  (linear_2): Linear(in_features=32, out_features=4, bias=True)\n",
            "  (relu_2): ReLU()\n",
            "  (conv_2): Conv2d(32, 128, kernel_size=(3, 3), stride=(1, 1), padding=(1, 1))\n",
            "  (tanh): Tanh()\n",
            "  (classifier): Sequential(\n",
            "    (0): AdaptiveAvgPool2d(output_size=(1, 1))\n",
            "    (1): Flatten(start_dim=1, end_dim=-1)\n",
            "    (2): Linear(in_features=128, out_features=10, bias=True)\n",
            "  )\n",
            ")\n"
          ]
        }
      ]
    },
    {
      "cell_type": "code",
      "source": [
        "train_inputs, train_label = next(iter(trainloader))\n",
        "\n",
        "test_inputs, test_label = next(iter(trainloader))\n",
        "\n",
        "train_inputs.size()"
      ],
      "metadata": {
        "colab": {
          "base_uri": "https://localhost:8080/"
        },
        "id": "5sSASB-TjfUr",
        "outputId": "059f5419-92a6-43d7-cc58-7eb5455bc7fd"
      },
      "execution_count": 5,
      "outputs": [
        {
          "output_type": "execute_result",
          "data": {
            "text/plain": [
              "torch.Size([4, 3, 32, 32])"
            ]
          },
          "metadata": {},
          "execution_count": 5
        }
      ]
    },
    {
      "cell_type": "markdown",
      "source": [
        "\n",
        "The function: evaluation, takes as parameter the dataset and calculates the accuracy on the train and test sets\n",
        "\n",
        "\n",
        "\n"
      ],
      "metadata": {
        "id": "nAKXKmm04Zj7"
      }
    },
    {
      "cell_type": "code",
      "source": [
        "def evaluation(dataloader):\n",
        "  total, correct = 0,0\n",
        "  # evaluate mode de-activates certain modes such as dropout\n",
        "  net.eval()\n",
        "  for data in dataloader:\n",
        "    inputs, labels = data\n",
        "    inputs, labels = inputs.to(device), labels.to(device)\n",
        "    outputs = net(inputs)\n",
        "    # we take the index of the class that received the highest value  \n",
        "    # we take outputs.data so that no backpropagation is performed for these outputs\n",
        "    _, pred = torch.max(outputs.data, 1)\n",
        "    total += labels.size(0)\n",
        "    # .item() takes Python float values from the tensor\n",
        "    correct += (pred == labels).sum().item()\n",
        "  return 100 * correct / total"
      ],
      "metadata": {
        "id": "GbFbpsFjm8KY"
      },
      "execution_count": 6,
      "outputs": []
    },
    {
      "cell_type": "markdown",
      "source": [
        "Initializing the weights"
      ],
      "metadata": {
        "id": "EVsyRztU1QF-"
      }
    },
    {
      "cell_type": "code",
      "source": [
        "def weights_init(m):\n",
        "    # initialise weights for both linear and convolutional layers\n",
        "    if isinstance(m, nn.Linear) or isinstance(m, nn.Conv2d):\n",
        "        torch.nn.init.xavier_normal_(m.weight)"
      ],
      "metadata": {
        "id": "1X3VjdIDnieC"
      },
      "execution_count": 7,
      "outputs": []
    },
    {
      "cell_type": "markdown",
      "source": [
        "**Create Loss and Optimizer**\n",
        "\n",
        "*   In this block of code, we define a loss function, we use Cross-Entropy loss.\n",
        "*   We also define the optimzer, we use the SGD optimizer\n",
        "*   Next We train the inetwork on the training data\n",
        "*   And finally we test the model on the test data\n",
        "\n",
        "\n",
        "\n"
      ],
      "metadata": {
        "id": "7axN9t6wuqN0"
      }
    },
    {
      "cell_type": "code",
      "source": [
        "#training on the GPU\n",
        "device = torch.device(\"cuda:0\")\n",
        "\n",
        "#initialise learning rate to 0.1\n",
        "alpha = 0.01\n",
        "\n",
        "#initialize training instance\n",
        "net = CNN().to(device)\n",
        "\n",
        "# call function to initialise weights\n",
        "net.apply(weights_init)\n",
        "\n",
        "# use cross entrophy loss\n",
        "loss_fn = nn.CrossEntropyLoss()\n",
        "loss_fn.to(device)\n",
        "\n",
        "# SGD optimiser, learning rate is specified by alpha\n",
        "opt = torch.optim.SGD(list(net.parameters()), lr=alpha)\n",
        "    \n",
        "loss_epoch_array = []\n",
        "max_epochs = 50\n",
        "loss_epoch = 0\n",
        "train_accuracy = []\n",
        "test_accuracy = []\n",
        "# loop over epochs\n",
        "for epoch in range(max_epochs):\n",
        "  # we will compute sum of batch losses per epoch\n",
        "  loss_epoch = 0\n",
        "  # loop over batches\n",
        "  for i, data in enumerate(trainloader, 0):\n",
        "    # to ensure the training mode is \"turned on\"\n",
        "    net.train()\n",
        "    inputs, labels = data\n",
        "    inputs, labels = inputs.to(device), labels.to(device)\n",
        "    # zero the gradients\n",
        "    opt.zero_grad()\n",
        "    outputs = net(inputs)\n",
        "    # compute the loss\n",
        "    loss = loss_fn(outputs, labels)\n",
        "    # calculate the gradients\n",
        "    loss.backward()\n",
        "    # update the parameters using the gradients and optimizer algorithm \n",
        "    opt.step()\n",
        "    # we sum the loss over batches\n",
        "    loss_epoch += loss.item()\n",
        "\n",
        "  \n",
        "  loss_epoch_array.append(loss_epoch)\n",
        "  train_accuracy.append(evaluation(trainloader))\n",
        "  test_accuracy.append(evaluation(testloader))\n",
        "  print(\"Epoch {}: loss: {}, train accuracy: {}, valid accuracy:{}\".format(epoch + 1, loss_epoch_array[-1], train_accuracy[-1], test_accuracy[-1]))"
      ],
      "metadata": {
        "colab": {
          "base_uri": "https://localhost:8080/"
        },
        "id": "b78zQm_Knr-1",
        "outputId": "0e18a271-7413-4ce8-d4c2-66a46f144b94"
      },
      "execution_count": 8,
      "outputs": [
        {
          "output_type": "stream",
          "name": "stdout",
          "text": [
            "Epoch 1: loss: 25885.88175547123, train accuracy: 24.17, valid accuracy:24.84\n",
            "Epoch 2: loss: 24494.958487927914, train accuracy: 30.016, valid accuracy:30.15\n",
            "Epoch 3: loss: 22509.51967817545, train accuracy: 38.344, valid accuracy:38.38\n",
            "Epoch 4: loss: 20646.89519110322, train accuracy: 43.186, valid accuracy:42.26\n",
            "Epoch 5: loss: 19330.577872902155, train accuracy: 44.294, valid accuracy:43.67\n",
            "Epoch 6: loss: 18304.10218563676, train accuracy: 49.748, valid accuracy:48.81\n",
            "Epoch 7: loss: 17585.305285081267, train accuracy: 46.912, valid accuracy:45.77\n",
            "Epoch 8: loss: 17061.972237691283, train accuracy: 53.246, valid accuracy:52.48\n",
            "Epoch 9: loss: 16631.65102753043, train accuracy: 54.652, valid accuracy:53.61\n",
            "Epoch 10: loss: 16283.021145634353, train accuracy: 55.716, valid accuracy:54.38\n",
            "Epoch 11: loss: 16012.239794135094, train accuracy: 54.28, valid accuracy:53.75\n",
            "Epoch 12: loss: 15772.094803482294, train accuracy: 55.048, valid accuracy:54.05\n",
            "Epoch 13: loss: 15540.796708516777, train accuracy: 55.63, valid accuracy:54.5\n",
            "Epoch 14: loss: 15343.008626051247, train accuracy: 57.434, valid accuracy:55.58\n",
            "Epoch 15: loss: 15145.437133394182, train accuracy: 58.216, valid accuracy:56.54\n",
            "Epoch 16: loss: 14961.218051105738, train accuracy: 59.408, valid accuracy:58.53\n",
            "Epoch 17: loss: 14845.777977600694, train accuracy: 57.754, valid accuracy:57.01\n",
            "Epoch 18: loss: 14656.71477412805, train accuracy: 58.632, valid accuracy:57.6\n",
            "Epoch 19: loss: 14541.64880079031, train accuracy: 60.874, valid accuracy:59.21\n",
            "Epoch 20: loss: 14422.832406714559, train accuracy: 59.268, valid accuracy:57.62\n",
            "Epoch 21: loss: 14282.998762782663, train accuracy: 58.47, valid accuracy:56.85\n",
            "Epoch 22: loss: 14172.895013093948, train accuracy: 60.352, valid accuracy:58.86\n",
            "Epoch 23: loss: 14068.21533856541, train accuracy: 61.662, valid accuracy:59.29\n",
            "Epoch 24: loss: 13947.506945822388, train accuracy: 61.834, valid accuracy:60.48\n",
            "Epoch 25: loss: 13884.928753226995, train accuracy: 62.156, valid accuracy:60.57\n",
            "Epoch 26: loss: 13792.544713117182, train accuracy: 62.33, valid accuracy:60.62\n",
            "Epoch 27: loss: 13714.676808394492, train accuracy: 61.352, valid accuracy:59.21\n",
            "Epoch 28: loss: 13612.276247877628, train accuracy: 63.056, valid accuracy:60.86\n",
            "Epoch 29: loss: 13555.081525422633, train accuracy: 62.24, valid accuracy:60.78\n",
            "Epoch 30: loss: 13507.938611909747, train accuracy: 63.784, valid accuracy:61.31\n",
            "Epoch 31: loss: 13426.022082410753, train accuracy: 63.942, valid accuracy:61.95\n",
            "Epoch 32: loss: 13361.289902906865, train accuracy: 61.074, valid accuracy:58.81\n",
            "Epoch 33: loss: 13320.491104193032, train accuracy: 64.22, valid accuracy:61.98\n",
            "Epoch 34: loss: 13288.180997584015, train accuracy: 64.37, valid accuracy:62.23\n",
            "Epoch 35: loss: 13183.904836371541, train accuracy: 62.992, valid accuracy:60.89\n",
            "Epoch 36: loss: 13151.045525610447, train accuracy: 64.922, valid accuracy:62.51\n",
            "Epoch 37: loss: 13097.271007481962, train accuracy: 64.236, valid accuracy:61.43\n",
            "Epoch 38: loss: 13057.743979627267, train accuracy: 62.694, valid accuracy:60.55\n",
            "Epoch 39: loss: 12978.963167980313, train accuracy: 64.48, valid accuracy:61.95\n",
            "Epoch 40: loss: 12962.113631587476, train accuracy: 62.546, valid accuracy:60.9\n",
            "Epoch 41: loss: 12924.079655021429, train accuracy: 64.214, valid accuracy:61.96\n",
            "Epoch 42: loss: 12872.515865797177, train accuracy: 63.92, valid accuracy:61.3\n",
            "Epoch 43: loss: 12839.929431147873, train accuracy: 64.342, valid accuracy:62.13\n",
            "Epoch 44: loss: 12803.236998159438, train accuracy: 65.022, valid accuracy:62.12\n",
            "Epoch 45: loss: 12736.003774125129, train accuracy: 64.62, valid accuracy:62.21\n",
            "Epoch 46: loss: 12735.527869280428, train accuracy: 65.152, valid accuracy:62.42\n",
            "Epoch 47: loss: 12676.883346155286, train accuracy: 64.246, valid accuracy:61.74\n",
            "Epoch 48: loss: 12650.146783802658, train accuracy: 63.656, valid accuracy:61.83\n",
            "Epoch 49: loss: 12601.688903018832, train accuracy: 63.622, valid accuracy:61.61\n",
            "Epoch 50: loss: 12567.050934800878, train accuracy: 63.756, valid accuracy:60.88\n"
          ]
        }
      ]
    },
    {
      "cell_type": "code",
      "source": [
        "from matplotlib import pyplot as plt\n",
        "\n",
        "#plot accuracy per epoch on training and test set\n",
        "plt.xlabel(\"Epoch\")\n",
        "plt.ylabel(\"Accuracy\")\n",
        "plt.plot(train_accuracy, \"r\")\n",
        "plt.plot(test_accuracy, \"b\")\n",
        "plt.gca().legend(('train','test'))"
      ],
      "metadata": {
        "id": "Q0kGIy2H78gI",
        "colab": {
          "base_uri": "https://localhost:8080/",
          "height": 466
        },
        "outputId": "8bfbbddc-2c69-44c3-8aca-d8bb3253ba0d"
      },
      "execution_count": 9,
      "outputs": [
        {
          "output_type": "execute_result",
          "data": {
            "text/plain": [
              "<matplotlib.legend.Legend at 0x7f58810ab2e0>"
            ]
          },
          "metadata": {},
          "execution_count": 9
        },
        {
          "output_type": "display_data",
          "data": {
            "text/plain": [
              "<Figure size 640x480 with 1 Axes>"
            ],
            "image/png": "[encoded data removed]"
          },
          "metadata": {}
        }
      ]
    },
    {
      "cell_type": "code",
      "source": [
        "#plot loss of training set per epoch\n",
        "plt.xlabel(\"Epoch\")\n",
        "plt.ylabel(\"Loss\")\n",
        "plt.plot(loss_epoch_array)"
      ],
      "metadata": {
        "id": "kyd44q8K8Fti",
        "colab": {
          "base_uri": "https://localhost:8080/",
          "height": 466
        },
        "outputId": "ce72ab2f-79cf-444d-bea5-19202ed24bea"
      },
      "execution_count": 10,
      "outputs": [
        {
          "output_type": "execute_result",
          "data": {
            "text/plain": [
              "[<matplotlib.lines.Line2D at 0x7f587040e9d0>]"
            ]
          },
          "metadata": {},
          "execution_count": 10
        },
        {
          "output_type": "display_data",
          "data": {
            "text/plain": [
              "<Figure size 640x480 with 1 Axes>"
            ],
            "image/png": "[encoded data removed]"
          },
          "metadata": {}
        }
      ]
    }
  ]
}